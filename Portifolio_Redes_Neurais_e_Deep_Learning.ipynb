{
  "nbformat": 4,
  "nbformat_minor": 0,
  "metadata": {
    "colab": {
      "provenance": [],
      "authorship_tag": "ABX9TyOY3kVG7OokT8sej4BZTiA8",
      "include_colab_link": true
    },
    "kernelspec": {
      "name": "python3",
      "display_name": "Python 3"
    },
    "language_info": {
      "name": "python"
    }
  },
  "cells": [
    {
      "cell_type": "markdown",
      "metadata": {
        "id": "view-in-github",
        "colab_type": "text"
      },
      "source": [
        "<a href=\"https://colab.research.google.com/github/naty1423/Modelo-preditivo-com-Redes-Neurais-e-Deep-Learning-utilizando-o-TensorFlow/blob/main/Portifolio_Redes_Neurais_e_Deep_Learning.ipynb\" target=\"_parent\"><img src=\"https://colab.research.google.com/assets/colab-badge.svg\" alt=\"Open In Colab\"/></a>"
      ]
    },
    {
      "cell_type": "markdown",
      "source": [
        "# **Modelo preditivo com Redes Neurais e Deep Learning utilizando o TensorFlow**\n",
        "\n",
        "Objetivo: Calcular a conversão de valores de temperatura em Celsius para Fahrenheit usando redes neurais com o TensorFlow.\n",
        "- O modelo será treinado no Google Colab e a comparação entre a saída do modelo e a conversão padrão será exibida."
      ],
      "metadata": {
        "id": "hxk_CcvESl_n"
      }
    },
    {
      "cell_type": "markdown",
      "source": [
        "**1 - Preparar o ambiente no Google Colab**\n",
        "\n",
        "- Realizado a instalação da biblioteca tensorflow.\n",
        "- Realizado a importação das Bibliotecas necessárias."
      ],
      "metadata": {
        "id": "vUzettzpTIDt"
      }
    },
    {
      "cell_type": "code",
      "execution_count": null,
      "metadata": {
        "id": "5IwpXVKOGMEe"
      },
      "outputs": [],
      "source": [
        "import tensorflow as tf\n",
        "import numpy as np\n",
        "import matplotlib.pyplot as plt\n",
        "import pandas as pd"
      ]
    },
    {
      "cell_type": "markdown",
      "source": [
        "**2 - Definição dos dados de treinamento**\n",
        "- O código começa criando dois arrays, um para as temperaturas em Celsius (celsius) e outro para os valores correspondentes em Fahrenheit (fahrenheit), conforme especificado na atividade."
      ],
      "metadata": {
        "id": "PTdbvEgiTPg8"
      }
    },
    {
      "cell_type": "code",
      "source": [
        "celsius = np.array([-40, -10, 0, 8, 15, 22, 38], dtype=float)\n",
        "fahrenheit = np.array([-40, 14, 32, 46.4, 59, 71.6, 100], dtype=float)"
      ],
      "metadata": {
        "id": "uDmdd61vGfZN"
      },
      "execution_count": null,
      "outputs": []
    },
    {
      "cell_type": "markdown",
      "source": [
        "**3 - Construção do modelo**\n",
        " - Em seguida, é criado um modelo de rede neural simples com uma única camada densa, que tem apenas um neurônio, a entrada do modelo (Input) é definida explicitamente antes da camada Dense.\n",
        " - Esse neurônio aprende a converter valores de Celsius para Fahrenheit."
      ],
      "metadata": {
        "id": "DCLubfWFTrYt"
      }
    },
    {
      "cell_type": "code",
      "source": [
        "modelo = tf.keras.Sequential([\n",
        "     tf.keras.layers.Input(shape=(1,)),\n",
        "    tf.keras.layers.Dense(units=1)\n",
        "])"
      ],
      "metadata": {
        "id": "VfTLt-oJGjB8"
      },
      "execution_count": null,
      "outputs": []
    },
    {
      "cell_type": "markdown",
      "source": [
        "**4 - Compilação do modelo**\n",
        "- O modelo é compilado usando o otimizador Adam, que é um gradiente descendente, onde o valor de convergencia é mais rápida.\n",
        "- A função de perda mean_squared_error (MSE), que mede a diferença entre as previsões do modelo e os valores reais."
      ],
      "metadata": {
        "id": "txgL0OzjT8rD"
      }
    },
    {
      "cell_type": "code",
      "source": [
        "modelo.compile(optimizer=tf.keras.optimizers.Adam(learning_rate=0.1), loss='mean_squared_error')"
      ],
      "metadata": {
        "id": "zLMC40MrGzbE"
      },
      "execution_count": null,
      "outputs": []
    },
    {
      "cell_type": "markdown",
      "source": [
        "**5 - Treinamento do modelo**\n",
        "- O modelo é treinado usando os dados de Celsius e Fahrenheit por 1500 épocas (isso é aumentado para garantir que o modelo tenha tempo suficiente para aprender).\n",
        "\n"
      ],
      "metadata": {
        "id": "orSW_IfBUSbD"
      }
    },
    {
      "cell_type": "code",
      "source": [
        "historico = modelo.fit(celsius, fahrenheit, epochs=1500, verbose=False)"
      ],
      "metadata": {
        "id": "2m7ztSXtG0hc"
      },
      "execution_count": null,
      "outputs": []
    },
    {
      "cell_type": "markdown",
      "source": [
        "**6 - Gráfico de perda (Loss)**\n",
        "- O gráfico gerado mostra como o erro (perda) diminui com o aumento do número de épocas, permitindo avaliar se o modelo está convergindo para uma boa solução."
      ],
      "metadata": {
        "id": "KNthYW5PUeKL"
      }
    },
    {
      "cell_type": "code",
      "source": [
        "plt.plot(historico.history['loss'])\n",
        "plt.title('Perda durante o treinamento')\n",
        "plt.xlabel('Épocas')\n",
        "plt.ylabel('Magnitude da Perda')\n",
        "plt.show()"
      ],
      "metadata": {
        "colab": {
          "base_uri": "https://localhost:8080/",
          "height": 474
        },
        "id": "LoXZWKTQG8Ks",
        "outputId": "99faf463-5e44-4006-8250-e7f30d2d9d86"
      },
      "execution_count": null,
      "outputs": [
        {
          "output_type": "display_data",
          "data": {
            "text/plain": [
              "<Figure size 640x480 with 1 Axes>"
            ],
            "image/png": "[encoded data removed]"
          },
          "metadata": {}
        }
      ]
    },
    {
      "cell_type": "markdown",
      "source": [
        "**7 - Testando o modelo**\n",
        "- O modelo é testado com 10 novas temperaturas em Celsius, que não estavam presentes no conjunto de treinamento. O modelo prevê os valores de Fahrenheit correspondentes."
      ],
      "metadata": {
        "id": "o2a1bMufUoLE"
      }
    },
    {
      "cell_type": "code",
      "source": [
        "teste_celsius = np.array([-5, 11, 18, 25, 28, 30, 36, 40, 42, 44], dtype=float)\n",
        "prever_fahrenheit = modelo.predict(teste_celsius)\n",
        "prever_fahrenheit = prever_fahrenheit.flatten()"
      ],
      "metadata": {
        "colab": {
          "base_uri": "https://localhost:8080/"
        },
        "id": "5J5ttiw8G-Ee",
        "outputId": "c0caadaa-059f-48cb-e60b-26f686c732cc"
      },
      "execution_count": null,
      "outputs": [
        {
          "output_type": "stream",
          "name": "stdout",
          "text": [
            "\u001b[1m1/1\u001b[0m \u001b[32m━━━━━━━━━━━━━━━━━━━━\u001b[0m\u001b[37m\u001b[0m \u001b[1m0s\u001b[0m 58ms/step\n"
          ]
        }
      ]
    },
    {
      "cell_type": "markdown",
      "source": [
        "**8 - Comparação com valores reais**\n",
        "- A fórmula de conversão padrão é usada para calcular os valores reais de Fahrenheit."
      ],
      "metadata": {
        "id": "no3IiDUtUzSL"
      }
    },
    {
      "cell_type": "code",
      "source": [
        "fahrenheit_real = (teste_celsius * 1.8) + 32"
      ],
      "metadata": {
        "id": "vXhdYJfYHCMM"
      },
      "execution_count": null,
      "outputs": []
    },
    {
      "cell_type": "markdown",
      "source": [
        "**9 - Resultado da tabela**\n",
        "- Tabela de comparação entre os valores previstos (modelo) e os reais."
      ],
      "metadata": {
        "id": "F5Q25cpgVAqS"
      }
    },
    {
      "cell_type": "code",
      "source": [
        "df_resultado = pd.DataFrame({\n",
        "    \"Celsius\": teste_celsius,\n",
        "    \"Fahrenheit (Modelo)\": prever_fahrenheit,\n",
        "    \"Fahrenheit (Real)\": fahrenheit_real\n",
        "})\n",
        "\n",
        "print(df_resultado)"
      ],
      "metadata": {
        "colab": {
          "base_uri": "https://localhost:8080/"
        },
        "id": "UChmgLKQHExr",
        "outputId": "a8e861d1-19f4-4968-cce2-a78a44fb43a5"
      },
      "execution_count": null,
      "outputs": [
        {
          "output_type": "stream",
          "name": "stdout",
          "text": [
            "   Celsius  Fahrenheit (Modelo)  Fahrenheit (Real)\n",
            "0     -5.0            22.977192               23.0\n",
            "1     11.0            51.720566               51.8\n",
            "2     18.0            64.295792               64.4\n",
            "3     25.0            76.871017               77.0\n",
            "4     28.0            82.260391               82.4\n",
            "5     30.0            85.853317               86.0\n",
            "6     36.0            96.632080               96.8\n",
            "7     40.0           103.817924              104.0\n",
            "8     42.0           107.410851              107.6\n",
            "9     44.0           111.003769              111.2\n"
          ]
        }
      ]
    },
    {
      "cell_type": "markdown",
      "source": [
        "**Análise dos Resultados:**\n",
        "\n",
        "- Fahrenheit (Modelo): São os valores previstos pelo modelo de rede neural para as temperaturas em Celsius fornecidas.\n",
        "\n",
        "- Fahrenheit (Real): São os valores reais, calculados usando a fórmula matemática de conversão de Celsius para Fahrenheit"
      ],
      "metadata": {
        "id": "Om-B-5ewV0wJ"
      }
    },
    {
      "cell_type": "markdown",
      "source": [
        "**Precisão das Previsões:**\n",
        "\n",
        "- Como podemos ver, as previsões feitas pelo modelo (coluna \"Fahrenheit (Modelo)\") estão bem próximas dos valores reais (coluna \"Fahrenheit (Real)\").\n",
        "- Por exemplo, para -5°C, o modelo previu 22.97°F, enquanto o valor real é 23.0°F. Essa diferença de cerca de 3°F é aceitável considerando que o modelo foi treinado com um número limitado de dados e em apenas 1500 épocas.\n",
        "- Similarmente, para 30°C, o modelo previu 85.85°F, enquanto o valor real é 86.0°F. O que mostra que o modelo está funcionando bem."
      ],
      "metadata": {
        "id": "N49hKGdVV6aD"
      }
    },
    {
      "cell_type": "markdown",
      "source": [
        "**Como melhorar mais o modelo:**\n",
        "\n",
        "- Aumentar o número de Épocas tornando as previsões ainda mais precisas.\n",
        "- Adicionar mais dados, Quanto mais dados de treinamento forem fornecidos ao modelo, mais ele será capaz de generalizar e fazer melhores previsões.\n",
        "- Tentar modelos mais complexos, usando redes neurais com mais camadas e neurônios."
      ],
      "metadata": {
        "id": "TulsRgC0WnTS"
      }
    },
    {
      "cell_type": "markdown",
      "source": [
        "**Conclusão:**\n",
        "\n",
        "- O modelo de rede neural está funcionando bem e com boas previsões para a conversão de temperaturas de Celsius para Fahrenheit.\n",
        "- Os valores previstos estão próximos dos valores reais, o que indica que o modelo aprendeu de forma eficaz com os dados de treinamento."
      ],
      "metadata": {
        "id": "cykn85zSWxox"
      }
    }
  ]
}